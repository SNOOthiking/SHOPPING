{
  "cells": [
    {
      "cell_type": "markdown",
      "metadata": {
        "id": "view-in-github",
        "colab_type": "text"
      },
      "source": [
        "<a href=\"https://colab.research.google.com/github/SNOOthiking/SHOPPING/blob/snoo/W2V_final.ipynb\" target=\"_parent\"><img src=\"https://colab.research.google.com/assets/colab-badge.svg\" alt=\"Open In Colab\"/></a>"
      ]
    },
    {
      "cell_type": "markdown",
      "source": [
        "# Dacon 쇼핑몰 리뷰 평점 분류 경진대회 - Word2Vec 1. 긍정과 부정 두 군으로 나눠보자\n",
        "****\n",
        "- word2vec은 2013년에 만들어진 자연어 처리기술로 신경망 모델을 사용하여 단어 연관성을 학습합니다. \n",
        "- 단어의 연관성을 이용해 부정적 단어와 긍정적 언어를 분류해 분류학습을 시도한다면 평점 분석을 할 수 있지 않을까? 에서 시작했습니다. \n"
      ],
      "metadata": {
        "id": "0Uo__-Wpu2Tq"
      },
      "id": "0Uo__-Wpu2Tq"
    },
    {
      "cell_type": "markdown",
      "source": [
        "## 모듈 임포트"
      ],
      "metadata": {
        "id": "03SvfJGbxugV"
      },
      "id": "03SvfJGbxugV"
    },
    {
      "cell_type": "code",
      "execution_count": 25,
      "id": "78d54fce",
      "metadata": {
        "id": "78d54fce"
      },
      "outputs": [],
      "source": [
        "import pandas as pd  \n",
        "import re            # 정규표현식 내장 모듈 (언어 전처리)\n",
        "import nltk          # Natural Language Toolkit 자연어 처리 라이브러리 (한국어에는 좋지 못함)\n",
        "import numpy as np   \n",
        "import matplotlib.pyplot as plt\n",
        "import seaborn as sns\n",
        "from sklearn.model_selection import train_test_split # 검증용 스플릿\n",
        "from sklearn.linear_model import LogisticRegression  # 로지스틱회귀로 분류진행"
      ]
    },
    {
      "cell_type": "code",
      "execution_count": 4,
      "id": "422b23a4",
      "metadata": {
        "colab": {
          "base_uri": "https://localhost:8080/"
        },
        "id": "422b23a4",
        "outputId": "bc43676a-d34e-47a2-f7f7-699c01baa0ff"
      },
      "outputs": [
        {
          "output_type": "stream",
          "name": "stderr",
          "text": [
            "[nltk_data] Downloading package punkt to /root/nltk_data...\n",
            "[nltk_data]   Unzipping tokenizers/punkt.zip.\n"
          ]
        },
        {
          "output_type": "execute_result",
          "data": {
            "text/plain": [
              "True"
            ]
          },
          "metadata": {},
          "execution_count": 4
        }
      ],
      "source": [
        "nltk.download('punkt') # 문장을 분리해주는 툴킷 "
      ]
    },
    {
      "cell_type": "markdown",
      "source": [
        "# 코랩 드라이브 연결"
      ],
      "metadata": {
        "id": "lq02NUlIzwS1"
      },
      "id": "lq02NUlIzwS1"
    },
    {
      "cell_type": "code",
      "source": [
        "from google.colab import drive\n",
        "from os.path import join\n",
        "\n",
        "ROOT = \"/content/drive\"\n",
        "print(ROOT)\n",
        "drive.mount(ROOT)"
      ],
      "metadata": {
        "colab": {
          "base_uri": "https://localhost:8080/"
        },
        "id": "Fl_MT8Fazu-g",
        "outputId": "388ffb0c-5ac7-4d5d-e789-1e66b583e22a"
      },
      "id": "Fl_MT8Fazu-g",
      "execution_count": 6,
      "outputs": [
        {
          "output_type": "stream",
          "name": "stdout",
          "text": [
            "/content/drive\n",
            "Mounted at /content/drive\n"
          ]
        }
      ]
    },
    {
      "cell_type": "code",
      "execution_count": 8,
      "id": "5b4195e3",
      "metadata": {
        "id": "5b4195e3"
      },
      "outputs": [],
      "source": [
        "train = pd.read_csv('/content/drive/MyDrive/dacon_shopping/shopping_git/dataset/train.csv')"
      ]
    },
    {
      "cell_type": "code",
      "execution_count": 9,
      "id": "f17bf14f",
      "metadata": {
        "colab": {
          "base_uri": "https://localhost:8080/",
          "height": 206
        },
        "id": "f17bf14f",
        "outputId": "61db0f79-7822-44b6-bbf7-c6cbfa167678"
      },
      "outputs": [
        {
          "output_type": "execute_result",
          "data": {
            "text/plain": [
              "   id                                            reviews  target\n",
              "0   0                                     조아요 처음구입 싸게햇어요       2\n",
              "1   1  생각보다 잘 안돼요 매지 바른지 하루밖에 안됐는데ㅠㅠ 25천원가량 주고 사기 너무 ...       1\n",
              "2   2  디자인은괜찮은데 상품이 금이가서 교환했는데 두번째받은상품도 까져있고 안쪽에 금이가져...       2\n",
              "3   3  기전에 이 제품말고 이마트 트레이더스에서만 팔던 프리미엄 제품을 사용했었습니다. 샘...       2\n",
              "4   4                                  튼튼하고 손목을 잘 받쳐주네요~       5"
            ],
            "text/html": [
              "\n",
              "  <div id=\"df-b371064a-a1cf-4d84-a0d8-f2e53467d8bb\">\n",
              "    <div class=\"colab-df-container\">\n",
              "      <div>\n",
              "<style scoped>\n",
              "    .dataframe tbody tr th:only-of-type {\n",
              "        vertical-align: middle;\n",
              "    }\n",
              "\n",
              "    .dataframe tbody tr th {\n",
              "        vertical-align: top;\n",
              "    }\n",
              "\n",
              "    .dataframe thead th {\n",
              "        text-align: right;\n",
              "    }\n",
              "</style>\n",
              "<table border=\"1\" class=\"dataframe\">\n",
              "  <thead>\n",
              "    <tr style=\"text-align: right;\">\n",
              "      <th></th>\n",
              "      <th>id</th>\n",
              "      <th>reviews</th>\n",
              "      <th>target</th>\n",
              "    </tr>\n",
              "  </thead>\n",
              "  <tbody>\n",
              "    <tr>\n",
              "      <th>0</th>\n",
              "      <td>0</td>\n",
              "      <td>조아요 처음구입 싸게햇어요</td>\n",
              "      <td>2</td>\n",
              "    </tr>\n",
              "    <tr>\n",
              "      <th>1</th>\n",
              "      <td>1</td>\n",
              "      <td>생각보다 잘 안돼요 매지 바른지 하루밖에 안됐는데ㅠㅠ 25천원가량 주고 사기 너무 ...</td>\n",
              "      <td>1</td>\n",
              "    </tr>\n",
              "    <tr>\n",
              "      <th>2</th>\n",
              "      <td>2</td>\n",
              "      <td>디자인은괜찮은데 상품이 금이가서 교환했는데 두번째받은상품도 까져있고 안쪽에 금이가져...</td>\n",
              "      <td>2</td>\n",
              "    </tr>\n",
              "    <tr>\n",
              "      <th>3</th>\n",
              "      <td>3</td>\n",
              "      <td>기전에 이 제품말고 이마트 트레이더스에서만 팔던 프리미엄 제품을 사용했었습니다. 샘...</td>\n",
              "      <td>2</td>\n",
              "    </tr>\n",
              "    <tr>\n",
              "      <th>4</th>\n",
              "      <td>4</td>\n",
              "      <td>튼튼하고 손목을 잘 받쳐주네요~</td>\n",
              "      <td>5</td>\n",
              "    </tr>\n",
              "  </tbody>\n",
              "</table>\n",
              "</div>\n",
              "      <button class=\"colab-df-convert\" onclick=\"convertToInteractive('df-b371064a-a1cf-4d84-a0d8-f2e53467d8bb')\"\n",
              "              title=\"Convert this dataframe to an interactive table.\"\n",
              "              style=\"display:none;\">\n",
              "        \n",
              "  <svg xmlns=\"http://www.w3.org/2000/svg\" height=\"24px\"viewBox=\"0 0 24 24\"\n",
              "       width=\"24px\">\n",
              "    <path d=\"M0 0h24v24H0V0z\" fill=\"none\"/>\n",
              "    <path d=\"M18.56 5.44l.94 2.06.94-2.06 2.06-.94-2.06-.94-.94-2.06-.94 2.06-2.06.94zm-11 1L8.5 8.5l.94-2.06 2.06-.94-2.06-.94L8.5 2.5l-.94 2.06-2.06.94zm10 10l.94 2.06.94-2.06 2.06-.94-2.06-.94-.94-2.06-.94 2.06-2.06.94z\"/><path d=\"M17.41 7.96l-1.37-1.37c-.4-.4-.92-.59-1.43-.59-.52 0-1.04.2-1.43.59L10.3 9.45l-7.72 7.72c-.78.78-.78 2.05 0 2.83L4 21.41c.39.39.9.59 1.41.59.51 0 1.02-.2 1.41-.59l7.78-7.78 2.81-2.81c.8-.78.8-2.07 0-2.86zM5.41 20L4 18.59l7.72-7.72 1.47 1.35L5.41 20z\"/>\n",
              "  </svg>\n",
              "      </button>\n",
              "      \n",
              "  <style>\n",
              "    .colab-df-container {\n",
              "      display:flex;\n",
              "      flex-wrap:wrap;\n",
              "      gap: 12px;\n",
              "    }\n",
              "\n",
              "    .colab-df-convert {\n",
              "      background-color: #E8F0FE;\n",
              "      border: none;\n",
              "      border-radius: 50%;\n",
              "      cursor: pointer;\n",
              "      display: none;\n",
              "      fill: #1967D2;\n",
              "      height: 32px;\n",
              "      padding: 0 0 0 0;\n",
              "      width: 32px;\n",
              "    }\n",
              "\n",
              "    .colab-df-convert:hover {\n",
              "      background-color: #E2EBFA;\n",
              "      box-shadow: 0px 1px 2px rgba(60, 64, 67, 0.3), 0px 1px 3px 1px rgba(60, 64, 67, 0.15);\n",
              "      fill: #174EA6;\n",
              "    }\n",
              "\n",
              "    [theme=dark] .colab-df-convert {\n",
              "      background-color: #3B4455;\n",
              "      fill: #D2E3FC;\n",
              "    }\n",
              "\n",
              "    [theme=dark] .colab-df-convert:hover {\n",
              "      background-color: #434B5C;\n",
              "      box-shadow: 0px 1px 3px 1px rgba(0, 0, 0, 0.15);\n",
              "      filter: drop-shadow(0px 1px 2px rgba(0, 0, 0, 0.3));\n",
              "      fill: #FFFFFF;\n",
              "    }\n",
              "  </style>\n",
              "\n",
              "      <script>\n",
              "        const buttonEl =\n",
              "          document.querySelector('#df-b371064a-a1cf-4d84-a0d8-f2e53467d8bb button.colab-df-convert');\n",
              "        buttonEl.style.display =\n",
              "          google.colab.kernel.accessAllowed ? 'block' : 'none';\n",
              "\n",
              "        async function convertToInteractive(key) {\n",
              "          const element = document.querySelector('#df-b371064a-a1cf-4d84-a0d8-f2e53467d8bb');\n",
              "          const dataTable =\n",
              "            await google.colab.kernel.invokeFunction('convertToInteractive',\n",
              "                                                     [key], {});\n",
              "          if (!dataTable) return;\n",
              "\n",
              "          const docLinkHtml = 'Like what you see? Visit the ' +\n",
              "            '<a target=\"_blank\" href=https://colab.research.google.com/notebooks/data_table.ipynb>data table notebook</a>'\n",
              "            + ' to learn more about interactive tables.';\n",
              "          element.innerHTML = '';\n",
              "          dataTable['output_type'] = 'display_data';\n",
              "          await google.colab.output.renderOutput(dataTable, element);\n",
              "          const docLink = document.createElement('div');\n",
              "          docLink.innerHTML = docLinkHtml;\n",
              "          element.appendChild(docLink);\n",
              "        }\n",
              "      </script>\n",
              "    </div>\n",
              "  </div>\n",
              "  "
            ]
          },
          "metadata": {},
          "execution_count": 9
        }
      ],
      "source": [
        "train.head()"
      ]
    },
    {
      "cell_type": "markdown",
      "id": "2bd085ed",
      "metadata": {
        "id": "2bd085ed"
      },
      "source": [
        "## 데이터 확인"
      ]
    },
    {
      "cell_type": "code",
      "execution_count": 10,
      "id": "6be35add",
      "metadata": {
        "scrolled": false,
        "colab": {
          "base_uri": "https://localhost:8080/"
        },
        "id": "6be35add",
        "outputId": "733b75be-e0e2-4da7-c4c5-f8b8346c9269"
      },
      "outputs": [
        {
          "output_type": "stream",
          "name": "stdout",
          "text": [
            "4500\n",
            "8000\n",
            "0\n",
            "2500\n",
            "10000\n"
          ]
        }
      ],
      "source": [
        "print((train.target==1).sum())\n",
        "print((train.target==2).sum())\n",
        "print((train.target==3).sum())\n",
        "print((train.target==4).sum())\n",
        "print((train.target==5).sum())"
      ]
    },
    {
      "cell_type": "code",
      "source": [
        "sns.countplot(data=train,x='target')"
      ],
      "metadata": {
        "colab": {
          "base_uri": "https://localhost:8080/",
          "height": 297
        },
        "id": "1QylmAAz0ez4",
        "outputId": "a6780bb1-ec63-44f5-8f5a-c68ce3a1097e"
      },
      "id": "1QylmAAz0ez4",
      "execution_count": 28,
      "outputs": [
        {
          "output_type": "execute_result",
          "data": {
            "text/plain": [
              "<matplotlib.axes._subplots.AxesSubplot at 0x7faeba2fcbd0>"
            ]
          },
          "metadata": {},
          "execution_count": 28
        },
        {
          "output_type": "display_data",
          "data": {
            "text/plain": [
              "<Figure size 432x288 with 1 Axes>"
            ],
            "image/png": "[encoded data removed]"
          },
          "metadata": {
            "needs_background": "light"
          }
        }
      ]
    },
    {
      "cell_type": "markdown",
      "id": "6bb75101",
      "metadata": {
        "id": "6bb75101"
      },
      "source": [
        "## 긍정과 부정 두 개로 분류해보기"
      ]
    },
    {
      "cell_type": "code",
      "source": [
        "train['target'] = train['target'].replace(4,5).replace(1,2)\n",
        "train['target'].unique()"
      ],
      "metadata": {
        "colab": {
          "base_uri": "https://localhost:8080/"
        },
        "id": "nkzYaYKXziyR",
        "outputId": "62edfc01-6361-4e05-876d-c906585b81c6"
      },
      "id": "nkzYaYKXziyR",
      "execution_count": 29,
      "outputs": [
        {
          "output_type": "execute_result",
          "data": {
            "text/plain": [
              "array([2, 5])"
            ]
          },
          "metadata": {},
          "execution_count": 29
        }
      ]
    },
    {
      "cell_type": "markdown",
      "id": "a735ca77",
      "metadata": {
        "id": "a735ca77"
      },
      "source": [
        "- train/val data set 분리"
      ]
    },
    {
      "cell_type": "code",
      "execution_count": 30,
      "id": "6b36d931",
      "metadata": {
        "id": "6b36d931"
      },
      "outputs": [],
      "source": [
        "train_data, val_data = train_test_split(train, test_size=0.25, \n",
        "                                        stratify = train.target,\n",
        "                                        random_state =0) # 25프로로 설정"
      ]
    },
    {
      "cell_type": "code",
      "execution_count": 31,
      "id": "c24e3499",
      "metadata": {
        "colab": {
          "base_uri": "https://localhost:8080/"
        },
        "id": "c24e3499",
        "outputId": "16df6b59-1859-4ec7-9883-cde04ba61646"
      },
      "outputs": [
        {
          "output_type": "stream",
          "name": "stdout",
          "text": [
            "(18750, 3)\n",
            "(6250, 3)\n"
          ]
        }
      ],
      "source": [
        "# 전처리 과정에서 데이터가 뒤섞이지 않도록 인덱스를 초기화\n",
        "train_data = train_data.reset_index().drop('index', axis=1)\n",
        "val_data = val_data.reset_index().drop('index', axis=1)\n",
        "print(train_data.shape)\n",
        "print(val_data.shape)"
      ]
    },
    {
      "cell_type": "code",
      "execution_count": 32,
      "id": "2ca5fcc5",
      "metadata": {
        "id": "2ca5fcc5"
      },
      "outputs": [],
      "source": [
        "# training 데이터에서 변수 추출\n",
        "train_X = train_data.reviews\n",
        "train_y = train_data.target \n",
        "\n",
        "# validation 데이터에서 변수 추출\n",
        "val_X = val_data.reviews\n",
        "val_y = val_data.target "
      ]
    },
    {
      "cell_type": "markdown",
      "id": "aaea5108",
      "metadata": {
        "id": "aaea5108"
      },
      "source": [
        "- nltk word_tokenize로 문장을 구분"
      ]
    },
    {
      "cell_type": "code",
      "execution_count": 33,
      "id": "004faef0",
      "metadata": {
        "colab": {
          "base_uri": "https://localhost:8080/"
        },
        "id": "004faef0",
        "outputId": "6af82725-b1c8-418b-fcc4-847ef1ae68ba"
      },
      "outputs": [
        {
          "output_type": "execute_result",
          "data": {
            "text/plain": [
              "['재구매', '항상', '배송도', '빠르고', '물건도', '파손없고', '만족합니다~', '!']"
            ]
          },
          "metadata": {},
          "execution_count": 33
        }
      ],
      "source": [
        "nltk.word_tokenize(train_X[0])"
      ]
    },
    {
      "cell_type": "markdown",
      "id": "a2eb0053",
      "metadata": {
        "id": "a2eb0053"
      },
      "source": [
        "- 단어 전처리 (특수 문자 제거)"
      ]
    },
    {
      "cell_type": "code",
      "execution_count": 34,
      "id": "4213c3d3",
      "metadata": {
        "id": "4213c3d3"
      },
      "outputs": [],
      "source": [
        "delet = [] \n",
        "for i in range(len(train_X)):\n",
        "    delet.append(re.sub('[-=+,#/\\?:^.@*\\\"※~ㆍ!』‘|\\(\\)\\[\\]`\\'…》\\”\\“\\’·  ]',' ',train_X[i]))"
      ]
    },
    {
      "cell_type": "code",
      "execution_count": 35,
      "id": "3e2ed22e",
      "metadata": {
        "id": "3e2ed22e"
      },
      "outputs": [],
      "source": [
        "train_token = []\n",
        "for i in range(len(delet)):\n",
        "    train_token.append(nltk.word_tokenize(delet[i]))\n"
      ]
    },
    {
      "cell_type": "code",
      "execution_count": 36,
      "id": "aa06fc08",
      "metadata": {
        "colab": {
          "base_uri": "https://localhost:8080/"
        },
        "id": "aa06fc08",
        "outputId": "8009954c-4592-48c4-e8e3-e166f0ef75f3"
      },
      "outputs": [
        {
          "output_type": "execute_result",
          "data": {
            "text/plain": [
              "[['재구매', '항상', '배송도', '빠르고', '물건도', '파손없고', '만족합니다'],\n",
              " ['갠찮네요',\n",
              "  '아직',\n",
              "  '사용전이라',\n",
              "  '잘모르겠지만',\n",
              "  '스위치',\n",
              "  '켜고',\n",
              "  '끄는게',\n",
              "  '많이',\n",
              "  '힘이드네요',\n",
              "  '그거말고는',\n",
              "  '갠찮은듯',\n",
              "  '합니다'],\n",
              " ['길이감도', '딱', '좋고', '부드럽고', '싼티안나요', '완전', '편합니다']]"
            ]
          },
          "metadata": {},
          "execution_count": 36
        }
      ],
      "source": [
        "train_token[:3]"
      ]
    },
    {
      "cell_type": "markdown",
      "id": "5d54fb61",
      "metadata": {
        "id": "5d54fb61"
      },
      "source": [
        "## Word2Vec 학습\n",
        "- train_X의 토큰인 train_token으로 학습합니다."
      ]
    },
    {
      "cell_type": "code",
      "execution_count": 37,
      "id": "0a0e0ec4",
      "metadata": {
        "id": "0a0e0ec4"
      },
      "outputs": [],
      "source": [
        "from gensim.models import Word2Vec\n",
        "from gensim.models import KeyedVectors "
      ]
    },
    {
      "cell_type": "code",
      "execution_count": 41,
      "id": "18723df1",
      "metadata": {
        "colab": {
          "base_uri": "https://localhost:8080/"
        },
        "id": "18723df1",
        "outputId": "9c84291e-5d53-4df7-8d76-5b616257808c"
      },
      "outputs": [
        {
          "output_type": "stream",
          "name": "stderr",
          "text": [
            "WARNING:gensim.models.base_any2vec:under 10 jobs per worker: consider setting a smaller `batch_words' for smoother alpha decay\n"
          ]
        }
      ],
      "source": [
        "model = Word2Vec(sentences = train_token, # train_X 토큰 \n",
        "                     size=100,      # 임베딩된 벡터 차원 \n",
        "                     window=10,             # 컨텍스트 윈도우 크기\n",
        "                     min_count=5,          # 5번 이하는 X \n",
        "                     workers=40,           # 학습 프로세스 수 \n",
        "                     sg=1)                 # 0= CBOW, 1= Skip-Gram\n",
        "                                           # skipgram = 중심단어로 주변단어 예측 "
      ]
    },
    {
      "cell_type": "code",
      "execution_count": 42,
      "id": "92b696d2",
      "metadata": {
        "colab": {
          "base_uri": "https://localhost:8080/"
        },
        "id": "92b696d2",
        "outputId": "d4c8384e-ba19-487a-84de-b022e27de45b"
      },
      "outputs": [
        {
          "output_type": "execute_result",
          "data": {
            "text/plain": [
              "[('좋네요', 0.9958661794662476),\n",
              " ('좋고', 0.9933687448501587),\n",
              " ('편하고', 0.9927366971969604),\n",
              " ('튼튼하고', 0.9920928478240967),\n",
              " ('ㅎㅎ', 0.9919450283050537),\n",
              " ('깔끔하고', 0.9905712604522705),\n",
              " ('좋습니다', 0.9904485940933228),\n",
              " ('아주', 0.9904094338417053),\n",
              " ('가볍고', 0.9903419613838196),\n",
              " ('저렴하고', 0.9898397326469421)]"
            ]
          },
          "metadata": {},
          "execution_count": 42
        }
      ],
      "source": [
        "model.wv.most_similar('좋아요')"
      ]
    },
    {
      "cell_type": "code",
      "execution_count": 43,
      "id": "57495654",
      "metadata": {
        "colab": {
          "base_uri": "https://localhost:8080/"
        },
        "id": "57495654",
        "outputId": "3baf23b3-eed6-47a4-aeb3-0f0f05b13304"
      },
      "outputs": [
        {
          "output_type": "execute_result",
          "data": {
            "text/plain": [
              "[('심하네요', 0.9988831281661987),\n",
              " ('비닐', 0.9988766312599182),\n",
              " ('실망이', 0.9988532066345215),\n",
              " ('볼트', 0.9988212585449219),\n",
              " ('나머지', 0.9988073706626892),\n",
              " ('어렵고', 0.9988020062446594),\n",
              " ('봅니다', 0.9987609386444092),\n",
              " ('반품은', 0.9987536668777466),\n",
              " ('3개', 0.9987514019012451),\n",
              " ('맛없어요', 0.9987325668334961)]"
            ]
          },
          "metadata": {},
          "execution_count": 43
        }
      ],
      "source": [
        "model.wv.most_similar('안좋아요')"
      ]
    },
    {
      "cell_type": "markdown",
      "id": "8fa45e4b",
      "metadata": {
        "id": "8fa45e4b"
      },
      "source": [
        "- 피쳐 벡터 구하는 함수"
      ]
    },
    {
      "cell_type": "code",
      "execution_count": 50,
      "id": "ef4ae3ab",
      "metadata": {
        "id": "ef4ae3ab"
      },
      "outputs": [],
      "source": [
        "def get_features(words, model, num_features):\n",
        "    feature_vector = np.zeros((num_features),dtype=np.float32)\n",
        "\n",
        "    num_words = 0\n",
        "    index2word_set = set(model.wv.index2entity)\n",
        "    for w in words:\n",
        "        if w in index2word_set:\n",
        "            num_words += 1\n",
        "            feature_vector = np.add(feature_vector, model.wv[w])\n",
        "    return feature_vector"
      ]
    },
    {
      "cell_type": "code",
      "execution_count": 51,
      "id": "c41091df",
      "metadata": {
        "id": "c41091df"
      },
      "outputs": [],
      "source": [
        "def get_dataset(reviews, model, num_features):\n",
        "    dataset = list()\n",
        "\n",
        "    for s in reviews:\n",
        "        dataset.append(get_features(s, model, num_features))\n",
        "\n",
        "    reviewFeatureVecs = np.stack(dataset)\n",
        "    \n",
        "    return reviewFeatureVecs\n"
      ]
    },
    {
      "cell_type": "markdown",
      "id": "7f353b47",
      "metadata": {
        "id": "7f353b47"
      },
      "source": [
        "- get_dataset함수로 피쳐벡터를 받아와 logistic에 x값으로"
      ]
    },
    {
      "cell_type": "code",
      "execution_count": 53,
      "id": "974f00b4",
      "metadata": {
        "colab": {
          "base_uri": "https://localhost:8080/"
        },
        "id": "974f00b4",
        "outputId": "03f18847-9d0b-428c-e16c-f76eaa6a5254"
      },
      "outputs": [
        {
          "output_type": "execute_result",
          "data": {
            "text/plain": [
              "array([[ 1.730446  , -0.0347609 , -0.6337145 , ..., -2.1754978 ,\n",
              "        -0.711315  ,  0.25981483],\n",
              "       [ 0.48081818, -0.2948311 , -0.14910376, ..., -0.8168597 ,\n",
              "        -0.5548178 , -0.02469504],\n",
              "       [ 1.2165412 , -0.1827519 , -0.36153078, ..., -1.4055873 ,\n",
              "        -0.6529801 ,  0.31902006],\n",
              "       ...,\n",
              "       [ 0.5152525 , -0.13851918, -0.2232444 , ..., -0.85076255,\n",
              "        -0.33754438,  0.06405606],\n",
              "       [ 0.45328104, -0.289078  , -0.18388121, ..., -0.70359564,\n",
              "        -0.4906777 ,  0.10596722],\n",
              "       [ 0.8530009 , -0.28553218, -0.26148805, ..., -1.0866082 ,\n",
              "        -0.6123393 ,  0.23743804]], dtype=float32)"
            ]
          },
          "metadata": {},
          "execution_count": 53
        }
      ],
      "source": [
        "x_train_w = get_dataset(train_token,model,100)\n",
        "x_train_w"
      ]
    },
    {
      "cell_type": "code",
      "execution_count": 54,
      "id": "e86fd7b5",
      "metadata": {
        "id": "e86fd7b5"
      },
      "outputs": [],
      "source": [
        "lr = LogisticRegression(max_iter=10000)"
      ]
    },
    {
      "cell_type": "code",
      "execution_count": 55,
      "id": "f023f61f",
      "metadata": {
        "scrolled": false,
        "colab": {
          "base_uri": "https://localhost:8080/"
        },
        "id": "f023f61f",
        "outputId": "e630d50e-5925-4b0d-a497-666bc8325377"
      },
      "outputs": [
        {
          "output_type": "execute_result",
          "data": {
            "text/plain": [
              "LogisticRegression(max_iter=10000)"
            ]
          },
          "metadata": {},
          "execution_count": 55
        }
      ],
      "source": [
        "lr.fit(x_train_w,train_y)"
      ]
    },
    {
      "cell_type": "markdown",
      "id": "1326d6c1",
      "metadata": {
        "id": "1326d6c1"
      },
      "source": [
        "- Validation 데이터 작업"
      ]
    },
    {
      "cell_type": "code",
      "execution_count": 56,
      "id": "73efe68a",
      "metadata": {
        "id": "73efe68a"
      },
      "outputs": [],
      "source": [
        "delet_v = [] \n",
        "for i in range(len(val_X)):\n",
        "    delet_v.append(re.sub('[-=+,#/\\?:^.@*\\\"※~ㆍ!』‘|\\(\\)\\[\\]`\\'…》\\”\\“\\’·  ]',' ',val_X[i]))"
      ]
    },
    {
      "cell_type": "code",
      "execution_count": 57,
      "id": "f5945c5e",
      "metadata": {
        "id": "f5945c5e"
      },
      "outputs": [],
      "source": [
        "val_token = []\n",
        "for i in range(len(delet_v)):\n",
        "    val_token.append(nltk.word_tokenize(delet_v[i]))\n"
      ]
    },
    {
      "cell_type": "code",
      "execution_count": 58,
      "id": "6e02fe07",
      "metadata": {
        "id": "6e02fe07"
      },
      "outputs": [],
      "source": [
        "x_val_w = get_dataset(val_token,model,100)"
      ]
    },
    {
      "cell_type": "markdown",
      "source": [
        "# 정확도 판단 \n",
        "- 생각보다 높진 않았다. "
      ],
      "metadata": {
        "id": "OMnYhbdz20DD"
      },
      "id": "OMnYhbdz20DD"
    },
    {
      "cell_type": "code",
      "execution_count": 59,
      "id": "cba2ace2",
      "metadata": {
        "colab": {
          "base_uri": "https://localhost:8080/"
        },
        "id": "cba2ace2",
        "outputId": "b6e58123-f5c2-4fda-e3da-a7aeef9bc220"
      },
      "outputs": [
        {
          "output_type": "execute_result",
          "data": {
            "text/plain": [
              "0.80992"
            ]
          },
          "metadata": {},
          "execution_count": 59
        }
      ],
      "source": [
        "(lr.predict(x_val_w) == val_y).mean()"
      ]
    },
    {
      "cell_type": "markdown",
      "source": [
        ""
      ],
      "metadata": {
        "id": "JEPokP-R2zUz"
      },
      "id": "JEPokP-R2zUz"
    },
    {
      "cell_type": "code",
      "execution_count": 60,
      "id": "edb966bc",
      "metadata": {
        "id": "edb966bc"
      },
      "outputs": [],
      "source": [
        "train_all = []\n",
        "for i in range(len(train['reviews'])):\n",
        "    train_all.append(re.sub('[-=+,#/\\?:^.@*\\\"※~ㆍ!』‘|\\(\\)\\[\\]`\\'…》\\”\\“\\’·  ]',' ',train['reviews'][i]))"
      ]
    },
    {
      "cell_type": "code",
      "execution_count": 61,
      "id": "46be8884",
      "metadata": {
        "id": "46be8884"
      },
      "outputs": [],
      "source": [
        "all_token = []\n",
        "for i in range(len(train_all)):\n",
        "    all_token.append(nltk.word_tokenize(train_all[i]))\n"
      ]
    },
    {
      "cell_type": "code",
      "execution_count": 62,
      "id": "edfa0172",
      "metadata": {
        "colab": {
          "base_uri": "https://localhost:8080/"
        },
        "id": "edfa0172",
        "outputId": "7cf52396-b813-401f-8bfd-7094d0ee415b"
      },
      "outputs": [
        {
          "output_type": "execute_result",
          "data": {
            "text/plain": [
              "25000"
            ]
          },
          "metadata": {},
          "execution_count": 62
        }
      ],
      "source": [
        "len(all_token)"
      ]
    },
    {
      "cell_type": "code",
      "execution_count": 63,
      "id": "9f84553e",
      "metadata": {
        "id": "9f84553e"
      },
      "outputs": [],
      "source": [
        "test = pd.read_csv('/content/drive/MyDrive/dacon_shopping/shopping_git/dataset/test.csv')"
      ]
    },
    {
      "cell_type": "code",
      "execution_count": 64,
      "id": "ae635489",
      "metadata": {
        "colab": {
          "base_uri": "https://localhost:8080/"
        },
        "id": "ae635489",
        "outputId": "9d5eb57a-4acc-40c9-dc6d-367ff1cc0567"
      },
      "outputs": [
        {
          "output_type": "execute_result",
          "data": {
            "text/plain": [
              "0                                           채소가 약간 시들어 있어요\n",
              "1        발톱 두껍고 단단한 분들 써도 소용없어요 이 테이프 물렁거리고 힘이없어서 들어 올리...\n",
              "2                                 부들부들 좋네요 입어보고 시원하면 또 살게요\n",
              "3            이런 1. 8 골드 주라니깐 파란개 오네 회사전화걸어도 받지도 않고 머하자는거임?\n",
              "4             검수도 없이 보내구 불량 배송비 5000원 청구하네요 완전별로 별하나도 아까워요\n",
              "                               ...                        \n",
              "24995                                         사용해보니 좋아요~^^\n",
              "24996                   저렴한가격에. 질좋고. 핏좋고. 너무. 이쁘게. 입고다녀요..\n",
              "24997    세트상품이라고 써있어서 그런줄 알고 구매했더니 단품이었네요 낚인 느낌도 들고 그러네...\n",
              "24998                                       역시 로네펠트!! 좋아요.\n",
              "24999    데싱 디바 써보고 갠찮아서 비슷 한줄 알앗더니 완전 별로예요ㅡㅡ3000언 더주고 디...\n",
              "Name: reviews, Length: 25000, dtype: object"
            ]
          },
          "metadata": {},
          "execution_count": 64
        }
      ],
      "source": [
        "test['reviews']"
      ]
    },
    {
      "cell_type": "code",
      "execution_count": 65,
      "id": "d8a45265",
      "metadata": {
        "id": "d8a45265"
      },
      "outputs": [],
      "source": [
        "test_all = []\n",
        "for i in range(len(test['reviews'])):\n",
        "    test_all.append(re.sub('[-=+,#/\\?:^.@*\\\"※~ㆍ!』‘|\\(\\)\\[\\]`\\'…》\\”\\“\\’·  ]',' ',test['reviews'][i]))"
      ]
    },
    {
      "cell_type": "code",
      "execution_count": 66,
      "id": "f9ac59dd",
      "metadata": {
        "id": "f9ac59dd"
      },
      "outputs": [],
      "source": [
        "test_token = []\n",
        "for i in range(len(test_all)):\n",
        "    test_token.append(nltk.word_tokenize(test_all[i]))"
      ]
    },
    {
      "cell_type": "code",
      "execution_count": 67,
      "id": "ee77be7d",
      "metadata": {
        "id": "ee77be7d"
      },
      "outputs": [],
      "source": [
        "test_w = get_dataset(test_token,model,100)"
      ]
    },
    {
      "cell_type": "code",
      "execution_count": 68,
      "id": "637a8bba",
      "metadata": {
        "id": "637a8bba"
      },
      "outputs": [],
      "source": [
        "pred = lr.predict(test_w)"
      ]
    },
    {
      "cell_type": "code",
      "execution_count": 71,
      "id": "3609939f",
      "metadata": {
        "colab": {
          "base_uri": "https://localhost:8080/"
        },
        "id": "3609939f",
        "outputId": "7eac01a5-c782-40b2-83d3-9ff7f2cf7591"
      },
      "outputs": [
        {
          "output_type": "execute_result",
          "data": {
            "text/plain": [
              "array([5, 2, 5, ..., 2, 5, 2])"
            ]
          },
          "metadata": {},
          "execution_count": 71
        }
      ],
      "source": [
        "pred"
      ]
    },
    {
      "cell_type": "markdown",
      "source": [
        "# 긍정과 부정을 구해보았다. 다음 작업은 분류작업으로 진행해 보도록 하겠다."
      ],
      "metadata": {
        "id": "g8HsJu_03N2k"
      },
      "id": "g8HsJu_03N2k"
    }
  ],
  "metadata": {
    "kernelspec": {
      "display_name": "Python 3 (ipykernel)",
      "language": "python",
      "name": "python3"
    },
    "language_info": {
      "codemirror_mode": {
        "name": "ipython",
        "version": 3
      },
      "file_extension": ".py",
      "mimetype": "text/x-python",
      "name": "python",
      "nbconvert_exporter": "python",
      "pygments_lexer": "ipython3",
      "version": "3.9.7"
    },
    "colab": {
      "name": "W2V_final.ipynb",
      "provenance": [],
      "collapsed_sections": [],
      "include_colab_link": true
    }
  },
  "nbformat": 4,
  "nbformat_minor": 5
}