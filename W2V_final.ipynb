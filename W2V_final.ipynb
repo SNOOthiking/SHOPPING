{
 "cells": [
  {
   "cell_type": "code",
   "execution_count": 1,
   "id": "78d54fce",
   "metadata": {},
   "outputs": [],
   "source": [
    "import pandas as pd\n",
    "import re\n",
    "import nltk\n",
    "import numpy as np\n",
    "from sklearn.model_selection import train_test_split\n",
    "from sklearn.linear_model import LogisticRegression"
   ]
  },
  {
   "cell_type": "code",
   "execution_count": 2,
   "id": "422b23a4",
   "metadata": {},
   "outputs": [
    {
     "name": "stderr",
     "output_type": "stream",
     "text": [
      "[nltk_data] Downloading package punkt to\n",
      "[nltk_data]     C:\\Users\\medici\\AppData\\Roaming\\nltk_data...\n",
      "[nltk_data]   Package punkt is already up-to-date!\n"
     ]
    },
    {
     "data": {
      "text/plain": [
       "True"
      ]
     },
     "execution_count": 2,
     "metadata": {},
     "output_type": "execute_result"
    }
   ],
   "source": [
    "nltk.download('punkt')"
   ]
  },
  {
   "cell_type": "code",
   "execution_count": 3,
   "id": "5b4195e3",
   "metadata": {},
   "outputs": [],
   "source": [
    "train = pd.read_csv('dataset/train.csv')"
   ]
  },
  {
   "cell_type": "code",
   "execution_count": 4,
   "id": "f17bf14f",
   "metadata": {},
   "outputs": [
    {
     "data": {
      "text/html": [
       "<div>\n",
       "<style scoped>\n",
       "    .dataframe tbody tr th:only-of-type {\n",
       "        vertical-align: middle;\n",
       "    }\n",
       "\n",
       "    .dataframe tbody tr th {\n",
       "        vertical-align: top;\n",
       "    }\n",
       "\n",
       "    .dataframe thead th {\n",
       "        text-align: right;\n",
       "    }\n",
       "</style>\n",
       "<table border=\"1\" class=\"dataframe\">\n",
       "  <thead>\n",
       "    <tr style=\"text-align: right;\">\n",
       "      <th></th>\n",
       "      <th>id</th>\n",
       "      <th>reviews</th>\n",
       "      <th>target</th>\n",
       "    </tr>\n",
       "  </thead>\n",
       "  <tbody>\n",
       "    <tr>\n",
       "      <th>0</th>\n",
       "      <td>0</td>\n",
       "      <td>조아요 처음구입 싸게햇어요</td>\n",
       "      <td>2</td>\n",
       "    </tr>\n",
       "    <tr>\n",
       "      <th>1</th>\n",
       "      <td>1</td>\n",
       "      <td>생각보다 잘 안돼요 매지 바른지 하루밖에 안됐는데ㅠㅠ 25천원가량 주고 사기 너무 ...</td>\n",
       "      <td>1</td>\n",
       "    </tr>\n",
       "    <tr>\n",
       "      <th>2</th>\n",
       "      <td>2</td>\n",
       "      <td>디자인은괜찮은데 상품이 금이가서 교환했는데 두번째받은상품도 까져있고 안쪽에 금이가져...</td>\n",
       "      <td>2</td>\n",
       "    </tr>\n",
       "    <tr>\n",
       "      <th>3</th>\n",
       "      <td>3</td>\n",
       "      <td>기전에 이 제품말고 이마트 트레이더스에서만 팔던 프리미엄 제품을 사용했었습니다. 샘...</td>\n",
       "      <td>2</td>\n",
       "    </tr>\n",
       "    <tr>\n",
       "      <th>4</th>\n",
       "      <td>4</td>\n",
       "      <td>튼튼하고 손목을 잘 받쳐주네요~</td>\n",
       "      <td>5</td>\n",
       "    </tr>\n",
       "  </tbody>\n",
       "</table>\n",
       "</div>"
      ],
      "text/plain": [
       "   id                                            reviews  target\n",
       "0   0                                     조아요 처음구입 싸게햇어요       2\n",
       "1   1  생각보다 잘 안돼요 매지 바른지 하루밖에 안됐는데ㅠㅠ 25천원가량 주고 사기 너무 ...       1\n",
       "2   2  디자인은괜찮은데 상품이 금이가서 교환했는데 두번째받은상품도 까져있고 안쪽에 금이가져...       2\n",
       "3   3  기전에 이 제품말고 이마트 트레이더스에서만 팔던 프리미엄 제품을 사용했었습니다. 샘...       2\n",
       "4   4                                  튼튼하고 손목을 잘 받쳐주네요~       5"
      ]
     },
     "execution_count": 4,
     "metadata": {},
     "output_type": "execute_result"
    }
   ],
   "source": [
    "train.head()"
   ]
  },
  {
   "cell_type": "markdown",
   "id": "2bd085ed",
   "metadata": {},
   "source": [
    "- 타겟 먼저 확인해 볼게요. 3번이 없는것을 확인했고 1,2,4,5의 개수를 파악했습니다. \n",
    "- 긍정은 4보다 5가 많았고 부정은 1보다 2가 많은것을 볼 수 있는데요. 과연 전체를 다 맞추는 작업과 부정과 긍정을 구분짓고 상대적으로 많은 2번, 5번으로 몰아 넣는다면 좀더 정확도 높지 않을까? 하는 생각을 해봤습니다. "
   ]
  },
  {
   "cell_type": "code",
   "execution_count": 5,
   "id": "6be35add",
   "metadata": {
    "scrolled": false
   },
   "outputs": [
    {
     "name": "stdout",
     "output_type": "stream",
     "text": [
      "4500\n",
      "8000\n",
      "0\n",
      "2500\n",
      "10000\n"
     ]
    }
   ],
   "source": [
    "print((train.target==1).sum())\n",
    "print((train.target==2).sum())\n",
    "print((train.target==3).sum())\n",
    "print((train.target==4).sum())\n",
    "print((train.target==5).sum())"
   ]
  },
  {
   "cell_type": "markdown",
   "id": "6bb75101",
   "metadata": {},
   "source": [
    "- 단순하게 4점은 5점으로 1점은 2점으로 변경해주었습니다."
   ]
  },
  {
   "cell_type": "markdown",
   "id": "497fba93",
   "metadata": {},
   "source": [
    "train['target'] = train['target'].replace(4,5).replace(1,2)\n",
    "train['target'].unique()"
   ]
  },
  {
   "cell_type": "markdown",
   "id": "a735ca77",
   "metadata": {},
   "source": [
    "- train/val data set 분리"
   ]
  },
  {
   "cell_type": "code",
   "execution_count": 6,
   "id": "6b36d931",
   "metadata": {},
   "outputs": [],
   "source": [
    "train_data, val_data = train_test_split(train, test_size=0.25, \n",
    "                                        stratify = train.target,\n",
    "                                        random_state =0) # 25프로로 설정"
   ]
  },
  {
   "cell_type": "code",
   "execution_count": 7,
   "id": "c24e3499",
   "metadata": {},
   "outputs": [],
   "source": [
    "# 전처리 과정에서 데이터가 뒤섞이지 않도록 인덱스를 초기화\n",
    "train_data = train_data.reset_index().drop('index', axis=1)\n",
    "val_data = val_data.reset_index().drop('index', axis=1)"
   ]
  },
  {
   "cell_type": "code",
   "execution_count": 8,
   "id": "36d447e8",
   "metadata": {},
   "outputs": [
    {
     "name": "stdout",
     "output_type": "stream",
     "text": [
      "(18750, 3)\n",
      "(6250, 3)\n"
     ]
    }
   ],
   "source": [
    "print(train_data.shape)\n",
    "print(val_data.shape)"
   ]
  },
  {
   "cell_type": "code",
   "execution_count": 9,
   "id": "2ca5fcc5",
   "metadata": {},
   "outputs": [],
   "source": [
    "# training 데이터에서 변수 추출\n",
    "train_X = train_data.reviews\n",
    "train_y = train_data.target \n",
    "\n",
    "# validation 데이터에서 변수 추출\n",
    "val_X = val_data.reviews\n",
    "val_y = val_data.target "
   ]
  },
  {
   "cell_type": "markdown",
   "id": "aaea5108",
   "metadata": {},
   "source": [
    "- nltk word_tokenize로 문장을 구분"
   ]
  },
  {
   "cell_type": "code",
   "execution_count": 10,
   "id": "004faef0",
   "metadata": {},
   "outputs": [
    {
     "data": {
      "text/plain": [
       "['상품이', '저가', '원하는대로', '왔어요', '.']"
      ]
     },
     "execution_count": 10,
     "metadata": {},
     "output_type": "execute_result"
    }
   ],
   "source": [
    "nltk.word_tokenize(train_X[0])"
   ]
  },
  {
   "cell_type": "markdown",
   "id": "a2eb0053",
   "metadata": {},
   "source": [
    "- 특수문자 제거"
   ]
  },
  {
   "cell_type": "code",
   "execution_count": 11,
   "id": "4213c3d3",
   "metadata": {},
   "outputs": [],
   "source": [
    "delet = [] \n",
    "for i in range(len(train_X)):\n",
    "    delet.append(re.sub('[-=+,#/\\?:^.@*\\\"※~ㆍ!』‘|\\(\\)\\[\\]`\\'…》\\”\\“\\’·  ]',' ',train_X[i]))"
   ]
  },
  {
   "cell_type": "code",
   "execution_count": 12,
   "id": "3e2ed22e",
   "metadata": {},
   "outputs": [],
   "source": [
    "train_token = []\n",
    "for i in range(len(delet)):\n",
    "    train_token.append(nltk.word_tokenize(delet[i]))\n"
   ]
  },
  {
   "cell_type": "code",
   "execution_count": 13,
   "id": "aa06fc08",
   "metadata": {},
   "outputs": [
    {
     "data": {
      "text/plain": [
       "[['상품이', '저가', '원하는대로', '왔어요'],\n",
       " ['몇번',\n",
       "  '세탁하고',\n",
       "  '사용하니',\n",
       "  '보풀이',\n",
       "  '조금',\n",
       "  '일어나요',\n",
       "  '그래도',\n",
       "  '금액도',\n",
       "  '적당하고',\n",
       "  '생각보다',\n",
       "  '커서',\n",
       "  '사용하기',\n",
       "  '편해요'],\n",
       " ['너무',\n",
       "  '크고',\n",
       "  '무거워',\n",
       "  '이동성은',\n",
       "  '떨어져요',\n",
       "  '밀리진',\n",
       "  '않지만',\n",
       "  '들고다니려니',\n",
       "  '손목이',\n",
       "  '아프네요',\n",
       "  '4살',\n",
       "  '딸',\n",
       "  '머리',\n",
       "  '감길때',\n",
       "  '손목아파',\n",
       "  '샀는데',\n",
       "  '편하진',\n",
       "  '않네요',\n",
       "  '뒷',\n",
       "  '머리',\n",
       "  '감기기도',\n",
       "  '불편하구요']]"
      ]
     },
     "execution_count": 13,
     "metadata": {},
     "output_type": "execute_result"
    }
   ],
   "source": [
    "train_token[:3]"
   ]
  },
  {
   "cell_type": "markdown",
   "id": "5d54fb61",
   "metadata": {},
   "source": [
    "## Word2Vec 학습\n",
    "- train_X의 토큰인 train_token으로 학습합니다."
   ]
  },
  {
   "cell_type": "code",
   "execution_count": 14,
   "id": "0a0e0ec4",
   "metadata": {},
   "outputs": [],
   "source": [
    "from gensim.models import Word2Vec\n",
    "from gensim.models import KeyedVectors "
   ]
  },
  {
   "cell_type": "code",
   "execution_count": 15,
   "id": "18723df1",
   "metadata": {},
   "outputs": [],
   "source": [
    "model = Word2Vec(sentences = train_token, # train_X 토큰 \n",
    "                     vector_size=100,      # 임베딩된 벡터 차원 \n",
    "                     window=10,             # 컨텍스트 윈도우 크기\n",
    "                     min_count=5,          # 5번 이하는 X \n",
    "                     workers=40,           # 학습 프로세스 수 \n",
    "                     sg=1)                 # 0= CBOW, 1= Skip-Gram\n",
    "                                           # skipgram = 중심단어로 주변단어 예측 "
   ]
  },
  {
   "cell_type": "code",
   "execution_count": 16,
   "id": "92b696d2",
   "metadata": {},
   "outputs": [
    {
     "data": {
      "text/plain": [
       "[('편하고', 0.9822671413421631),\n",
       " ('좋네요', 0.9820128083229065),\n",
       " ('배송빠르고', 0.9775317907333374),\n",
       " ('좋고', 0.9766674041748047),\n",
       " ('향도', 0.9750815033912659),\n",
       " ('좋습니다', 0.9729708433151245),\n",
       " ('싸고', 0.9723783135414124),\n",
       " ('저렴하고', 0.9709473252296448),\n",
       " ('깔끔하고', 0.9701974391937256),\n",
       " ('적당하고', 0.9699755311012268)]"
      ]
     },
     "execution_count": 16,
     "metadata": {},
     "output_type": "execute_result"
    }
   ],
   "source": [
    "model.wv.most_similar('좋아요')"
   ]
  },
  {
   "cell_type": "code",
   "execution_count": 17,
   "id": "57495654",
   "metadata": {},
   "outputs": [
    {
     "data": {
      "text/plain": [
       "[('별로라', 0.9964783787727356),\n",
       " ('얇고', 0.9963861107826233),\n",
       " ('작음', 0.9961965680122375),\n",
       " ('ㅠㅠㅠ', 0.996020495891571),\n",
       " ('자국이', 0.9959438443183899),\n",
       " ('반품비가', 0.9959155321121216),\n",
       " ('아닌데', 0.9958221316337585),\n",
       " ('뻣뻣해서', 0.9957759380340576),\n",
       " ('묻어서', 0.9957319498062134),\n",
       " ('약하네요', 0.9956998229026794)]"
      ]
     },
     "execution_count": 17,
     "metadata": {},
     "output_type": "execute_result"
    }
   ],
   "source": [
    "model.wv.most_similar('안좋아요')"
   ]
  },
  {
   "cell_type": "markdown",
   "id": "8fa45e4b",
   "metadata": {},
   "source": [
    "- 피쳐 벡터 구하는 함수"
   ]
  },
  {
   "cell_type": "code",
   "execution_count": 18,
   "id": "ef4ae3ab",
   "metadata": {},
   "outputs": [],
   "source": [
    "def get_features(words, model, num_features):\n",
    "    feature_vector = np.zeros((num_features),dtype=np.float32)\n",
    "\n",
    "    num_words = 0\n",
    "    index2word_set = set(model.wv.index_to_key)\n",
    "    for w in words:\n",
    "        if w in index2word_set:\n",
    "            num_words += 1\n",
    "            feature_vector = np.add(feature_vector, model.wv[w])\n",
    "    return feature_vector"
   ]
  },
  {
   "cell_type": "code",
   "execution_count": 19,
   "id": "c41091df",
   "metadata": {},
   "outputs": [],
   "source": [
    "def get_dataset(reviews, model, num_features):\n",
    "    dataset = list()\n",
    "\n",
    "    for s in reviews:\n",
    "        dataset.append(get_features(s, model, num_features))\n",
    "\n",
    "    reviewFeatureVecs = np.stack(dataset)\n",
    "    \n",
    "    return reviewFeatureVecs\n"
   ]
  },
  {
   "cell_type": "markdown",
   "id": "7f353b47",
   "metadata": {},
   "source": [
    "- get_dataset함수로 피쳐벡터를 받아와 logistic에 x값으로"
   ]
  },
  {
   "cell_type": "code",
   "execution_count": 20,
   "id": "974f00b4",
   "metadata": {},
   "outputs": [],
   "source": [
    "x_train_w = get_dataset(train_token,model,100)"
   ]
  },
  {
   "cell_type": "code",
   "execution_count": 21,
   "id": "e86fd7b5",
   "metadata": {},
   "outputs": [],
   "source": [
    "lr = LogisticRegression(max_iter=10000)"
   ]
  },
  {
   "cell_type": "code",
   "execution_count": 22,
   "id": "f023f61f",
   "metadata": {
    "scrolled": false
   },
   "outputs": [
    {
     "data": {
      "text/html": [
       "<style>#sk-container-id-1 {color: black;background-color: white;}#sk-container-id-1 pre{padding: 0;}#sk-container-id-1 div.sk-toggleable {background-color: white;}#sk-container-id-1 label.sk-toggleable__label {cursor: pointer;display: block;width: 100%;margin-bottom: 0;padding: 0.3em;box-sizing: border-box;text-align: center;}#sk-container-id-1 label.sk-toggleable__label-arrow:before {content: \"▸\";float: left;margin-right: 0.25em;color: #696969;}#sk-container-id-1 label.sk-toggleable__label-arrow:hover:before {color: black;}#sk-container-id-1 div.sk-estimator:hover label.sk-toggleable__label-arrow:before {color: black;}#sk-container-id-1 div.sk-toggleable__content {max-height: 0;max-width: 0;overflow: hidden;text-align: left;background-color: #f0f8ff;}#sk-container-id-1 div.sk-toggleable__content pre {margin: 0.2em;color: black;border-radius: 0.25em;background-color: #f0f8ff;}#sk-container-id-1 input.sk-toggleable__control:checked~div.sk-toggleable__content {max-height: 200px;max-width: 100%;overflow: auto;}#sk-container-id-1 input.sk-toggleable__control:checked~label.sk-toggleable__label-arrow:before {content: \"▾\";}#sk-container-id-1 div.sk-estimator input.sk-toggleable__control:checked~label.sk-toggleable__label {background-color: #d4ebff;}#sk-container-id-1 div.sk-label input.sk-toggleable__control:checked~label.sk-toggleable__label {background-color: #d4ebff;}#sk-container-id-1 input.sk-hidden--visually {border: 0;clip: rect(1px 1px 1px 1px);clip: rect(1px, 1px, 1px, 1px);height: 1px;margin: -1px;overflow: hidden;padding: 0;position: absolute;width: 1px;}#sk-container-id-1 div.sk-estimator {font-family: monospace;background-color: #f0f8ff;border: 1px dotted black;border-radius: 0.25em;box-sizing: border-box;margin-bottom: 0.5em;}#sk-container-id-1 div.sk-estimator:hover {background-color: #d4ebff;}#sk-container-id-1 div.sk-parallel-item::after {content: \"\";width: 100%;border-bottom: 1px solid gray;flex-grow: 1;}#sk-container-id-1 div.sk-label:hover label.sk-toggleable__label {background-color: #d4ebff;}#sk-container-id-1 div.sk-serial::before {content: \"\";position: absolute;border-left: 1px solid gray;box-sizing: border-box;top: 0;bottom: 0;left: 50%;z-index: 0;}#sk-container-id-1 div.sk-serial {display: flex;flex-direction: column;align-items: center;background-color: white;padding-right: 0.2em;padding-left: 0.2em;position: relative;}#sk-container-id-1 div.sk-item {position: relative;z-index: 1;}#sk-container-id-1 div.sk-parallel {display: flex;align-items: stretch;justify-content: center;background-color: white;position: relative;}#sk-container-id-1 div.sk-item::before, #sk-container-id-1 div.sk-parallel-item::before {content: \"\";position: absolute;border-left: 1px solid gray;box-sizing: border-box;top: 0;bottom: 0;left: 50%;z-index: -1;}#sk-container-id-1 div.sk-parallel-item {display: flex;flex-direction: column;z-index: 1;position: relative;background-color: white;}#sk-container-id-1 div.sk-parallel-item:first-child::after {align-self: flex-end;width: 50%;}#sk-container-id-1 div.sk-parallel-item:last-child::after {align-self: flex-start;width: 50%;}#sk-container-id-1 div.sk-parallel-item:only-child::after {width: 0;}#sk-container-id-1 div.sk-dashed-wrapped {border: 1px dashed gray;margin: 0 0.4em 0.5em 0.4em;box-sizing: border-box;padding-bottom: 0.4em;background-color: white;}#sk-container-id-1 div.sk-label label {font-family: monospace;font-weight: bold;display: inline-block;line-height: 1.2em;}#sk-container-id-1 div.sk-label-container {text-align: center;}#sk-container-id-1 div.sk-container {/* jupyter's `normalize.less` sets `[hidden] { display: none; }` but bootstrap.min.css set `[hidden] { display: none !important; }` so we also need the `!important` here to be able to override the default hidden behavior on the sphinx rendered scikit-learn.org. See: https://github.com/scikit-learn/scikit-learn/issues/21755 */display: inline-block !important;position: relative;}#sk-container-id-1 div.sk-text-repr-fallback {display: none;}</style><div id=\"sk-container-id-1\" class=\"sk-top-container\"><div class=\"sk-text-repr-fallback\"><pre>LogisticRegression(max_iter=10000)</pre><b>In a Jupyter environment, please rerun this cell to show the HTML representation or trust the notebook. <br />On GitHub, the HTML representation is unable to render, please try loading this page with nbviewer.org.</b></div><div class=\"sk-container\" hidden><div class=\"sk-item\"><div class=\"sk-estimator sk-toggleable\"><input class=\"sk-toggleable__control sk-hidden--visually\" id=\"sk-estimator-id-1\" type=\"checkbox\" checked><label for=\"sk-estimator-id-1\" class=\"sk-toggleable__label sk-toggleable__label-arrow\">LogisticRegression</label><div class=\"sk-toggleable__content\"><pre>LogisticRegression(max_iter=10000)</pre></div></div></div></div></div>"
      ],
      "text/plain": [
       "LogisticRegression(max_iter=10000)"
      ]
     },
     "execution_count": 22,
     "metadata": {},
     "output_type": "execute_result"
    }
   ],
   "source": [
    "lr.fit(x_train_w,train_y)"
   ]
  },
  {
   "cell_type": "markdown",
   "id": "1326d6c1",
   "metadata": {},
   "source": [
    "- Validation 데이터도 마찬가지로 작업해줘야 효과 있겠죠?"
   ]
  },
  {
   "cell_type": "code",
   "execution_count": 23,
   "id": "73efe68a",
   "metadata": {},
   "outputs": [],
   "source": [
    "delet_v = [] \n",
    "for i in range(len(val_X)):\n",
    "    delet_v.append(re.sub('[-=+,#/\\?:^.@*\\\"※~ㆍ!』‘|\\(\\)\\[\\]`\\'…》\\”\\“\\’·  ]',' ',val_X[i]))"
   ]
  },
  {
   "cell_type": "code",
   "execution_count": 24,
   "id": "f5945c5e",
   "metadata": {},
   "outputs": [],
   "source": [
    "val_token = []\n",
    "for i in range(len(delet_v)):\n",
    "    val_token.append(nltk.word_tokenize(delet_v[i]))\n"
   ]
  },
  {
   "cell_type": "code",
   "execution_count": 25,
   "id": "6e02fe07",
   "metadata": {},
   "outputs": [],
   "source": [
    "x_val_w = get_dataset(val_token,model,100)"
   ]
  },
  {
   "cell_type": "code",
   "execution_count": 26,
   "id": "cba2ace2",
   "metadata": {},
   "outputs": [
    {
     "data": {
      "text/plain": [
       "0.59184"
      ]
     },
     "execution_count": 26,
     "metadata": {},
     "output_type": "execute_result"
    }
   ],
   "source": [
    "(lr.predict(x_val_w) == val_y).mean()"
   ]
  },
  {
   "cell_type": "code",
   "execution_count": 27,
   "id": "edb966bc",
   "metadata": {},
   "outputs": [],
   "source": [
    "train_all = []\n",
    "for i in range(len(train['reviews'])):\n",
    "    train_all.append(re.sub('[-=+,#/\\?:^.@*\\\"※~ㆍ!』‘|\\(\\)\\[\\]`\\'…》\\”\\“\\’·  ]',' ',train['reviews'][i]))"
   ]
  },
  {
   "cell_type": "code",
   "execution_count": 28,
   "id": "46be8884",
   "metadata": {},
   "outputs": [],
   "source": [
    "all_token = []\n",
    "for i in range(len(train_all)):\n",
    "    all_token.append(nltk.word_tokenize(train_all[i]))\n"
   ]
  },
  {
   "cell_type": "code",
   "execution_count": 29,
   "id": "edfa0172",
   "metadata": {},
   "outputs": [
    {
     "data": {
      "text/plain": [
       "25000"
      ]
     },
     "execution_count": 29,
     "metadata": {},
     "output_type": "execute_result"
    }
   ],
   "source": [
    "len(all_token)"
   ]
  },
  {
   "cell_type": "code",
   "execution_count": 30,
   "id": "9f84553e",
   "metadata": {},
   "outputs": [],
   "source": [
    "test = pd.read_csv('dataset/test.csv')"
   ]
  },
  {
   "cell_type": "code",
   "execution_count": 31,
   "id": "ae635489",
   "metadata": {},
   "outputs": [
    {
     "data": {
      "text/plain": [
       "0                                           채소가 약간 시들어 있어요\n",
       "1        발톱 두껍고 단단한 분들 써도 소용없어요 이 테이프 물렁거리고 힘이없어서 들어 올리...\n",
       "2                                 부들부들 좋네요 입어보고 시원하면 또 살게요\n",
       "3            이런 1. 8 골드 주라니깐 파란개 오네 회사전화걸어도 받지도 않고 머하자는거임?\n",
       "4             검수도 없이 보내구 불량 배송비 5000원 청구하네요 완전별로 별하나도 아까워요\n",
       "                               ...                        \n",
       "24995                                         사용해보니 좋아요~^^\n",
       "24996                   저렴한가격에. 질좋고. 핏좋고. 너무. 이쁘게. 입고다녀요..\n",
       "24997    세트상품이라고 써있어서 그런줄 알고 구매했더니 단품이었네요 낚인 느낌도 들고 그러네...\n",
       "24998                                       역시 로네펠트!! 좋아요.\n",
       "24999    데싱 디바 써보고 갠찮아서 비슷 한줄 알앗더니 완전 별로예요ㅡㅡ3000언 더주고 디...\n",
       "Name: reviews, Length: 25000, dtype: object"
      ]
     },
     "execution_count": 31,
     "metadata": {},
     "output_type": "execute_result"
    }
   ],
   "source": [
    "test['reviews']"
   ]
  },
  {
   "cell_type": "code",
   "execution_count": 32,
   "id": "d8a45265",
   "metadata": {},
   "outputs": [],
   "source": [
    "test_all = []\n",
    "for i in range(len(test['reviews'])):\n",
    "    test_all.append(re.sub('[-=+,#/\\?:^.@*\\\"※~ㆍ!』‘|\\(\\)\\[\\]`\\'…》\\”\\“\\’·  ]',' ',test['reviews'][i]))"
   ]
  },
  {
   "cell_type": "code",
   "execution_count": 33,
   "id": "f9ac59dd",
   "metadata": {},
   "outputs": [],
   "source": [
    "test_token = []\n",
    "for i in range(len(test_all)):\n",
    "    test_token.append(nltk.word_tokenize(test_all[i]))"
   ]
  },
  {
   "cell_type": "code",
   "execution_count": 34,
   "id": "ee77be7d",
   "metadata": {},
   "outputs": [],
   "source": [
    "test_w = get_dataset(test_token,model,100)"
   ]
  },
  {
   "cell_type": "code",
   "execution_count": 35,
   "id": "637a8bba",
   "metadata": {},
   "outputs": [],
   "source": [
    "pred = lr.predict(test_w)"
   ]
  },
  {
   "cell_type": "code",
   "execution_count": 51,
   "id": "3609939f",
   "metadata": {},
   "outputs": [
    {
     "data": {
      "text/plain": [
       "array([5, 2, 5, 2, 2, 2, 2, 2, 5, 5, 2, 5, 5, 2, 2, 5, 2, 2, 5, 2, 5, 5,\n",
       "       2, 5, 5, 5, 2, 5, 5, 2, 2, 2, 5, 2, 2, 2, 2, 5, 1, 2, 2, 5, 5, 2,\n",
       "       2, 5, 5, 5, 5, 5, 5, 2, 5, 2, 2, 2, 5, 2, 5, 5, 5, 2, 2, 2, 2, 2,\n",
       "       5, 2, 2, 5, 5, 2, 5, 5, 5, 2, 5, 2, 5, 2, 5, 2, 5, 5, 2, 5, 2, 2,\n",
       "       2, 2, 2, 2, 5, 2, 1, 2, 1, 5, 5, 2], dtype=int64)"
      ]
     },
     "execution_count": 51,
     "metadata": {},
     "output_type": "execute_result"
    }
   ],
   "source": [
    "pred[:100]"
   ]
  },
  {
   "cell_type": "code",
   "execution_count": 37,
   "id": "40a5cedf",
   "metadata": {},
   "outputs": [],
   "source": [
    "submission = pd.read_csv('dataset/sample_submission.csv')"
   ]
  },
  {
   "cell_type": "code",
   "execution_count": 38,
   "id": "e9157df8",
   "metadata": {},
   "outputs": [],
   "source": [
    "submission['target'] = pred "
   ]
  },
  {
   "cell_type": "markdown",
   "id": "4735a63c",
   "metadata": {},
   "source": [
    "submission.to_csv(\"submission.csv\",index=False)"
   ]
  }
 ],
 "metadata": {
  "kernelspec": {
   "display_name": "Python 3 (ipykernel)",
   "language": "python",
   "name": "python3"
  },
  "language_info": {
   "codemirror_mode": {
    "name": "ipython",
    "version": 3
   },
   "file_extension": ".py",
   "mimetype": "text/x-python",
   "name": "python",
   "nbconvert_exporter": "python",
   "pygments_lexer": "ipython3",
   "version": "3.9.7"
  }
 },
 "nbformat": 4,
 "nbformat_minor": 5
}
