{
  "cells": [
    {
      "cell_type": "markdown",
      "metadata": {
        "id": "view-in-github",
        "colab_type": "text"
      },
      "source": [
        "<a href=\"https://colab.research.google.com/github/SNOOthiking/SHOPPING/blob/snoo/W2V_Kkma.ipynb\" target=\"_parent\"><img src=\"https://colab.research.google.com/assets/colab-badge.svg\" alt=\"Open In Colab\"/></a>"
      ]
    },
    {
      "cell_type": "markdown",
      "source": [
        "# Dacon 쇼핑몰 리뷰 평점 분류 경진대회 - Word2Vec 2. 분류를 적용해보자\n",
        "****\n",
        "- nltk는 한국어 적용이 잘 안된다. 그래서 Kkma를 사용해서 한국어 처리를 해보려고 한다. \n",
        " \n"
      ],
      "metadata": {
        "id": "mR4Q5hiH3waK"
      },
      "id": "mR4Q5hiH3waK"
    },
    {
      "cell_type": "markdown",
      "source": [
        "## 모듈 임포트"
      ],
      "metadata": {
        "id": "T6ZT_Vdx3-Y8"
      },
      "id": "T6ZT_Vdx3-Y8"
    },
    {
      "cell_type": "code",
      "source": [
        "pip install konlpy"
      ],
      "metadata": {
        "colab": {
          "base_uri": "https://localhost:8080/"
        },
        "id": "CgWPQsJL4DaW",
        "outputId": "9381813b-9379-413e-f574-c40e748c60e6"
      },
      "id": "CgWPQsJL4DaW",
      "execution_count": 22,
      "outputs": [
        {
          "output_type": "stream",
          "name": "stdout",
          "text": [
            "Looking in indexes: https://pypi.org/simple, https://us-python.pkg.dev/colab-wheels/public/simple/\n",
            "Requirement already satisfied: konlpy in /usr/local/lib/python3.7/dist-packages (0.6.0)\n",
            "Requirement already satisfied: lxml>=4.1.0 in /usr/local/lib/python3.7/dist-packages (from konlpy) (4.9.1)\n",
            "Requirement already satisfied: JPype1>=0.7.0 in /usr/local/lib/python3.7/dist-packages (from konlpy) (1.4.0)\n",
            "Requirement already satisfied: numpy>=1.6 in /usr/local/lib/python3.7/dist-packages (from konlpy) (1.21.6)\n",
            "Requirement already satisfied: typing-extensions in /usr/local/lib/python3.7/dist-packages (from JPype1>=0.7.0->konlpy) (4.1.1)\n"
          ]
        }
      ]
    },
    {
      "cell_type": "code",
      "execution_count": 23,
      "id": "66a46a84",
      "metadata": {
        "id": "66a46a84"
      },
      "outputs": [],
      "source": [
        "import re \n",
        "import pandas as pd\n",
        "import numpy as np \n",
        "from gensim.models import Word2Vec\n",
        "from gensim.models import KeyedVectors \n",
        "from sklearn.feature_extraction.text import CountVectorizer\n",
        "from konlpy.tag import Okt\n",
        "from collections import Counter\n",
        "from sklearn.linear_model import LogisticRegression\n",
        "from konlpy.tag import Kkma # 서울대에서 만든 한국어 자연어 모델 \n",
        "import seaborn as sns"
      ]
    },
    {
      "cell_type": "code",
      "source": [
        "kma =Kkma(max_heap_size=1024*6)  # 힙사이즈 강제할당"
      ],
      "metadata": {
        "id": "GdEnIUbG5OLE"
      },
      "id": "GdEnIUbG5OLE",
      "execution_count": 24,
      "outputs": []
    },
    {
      "cell_type": "code",
      "execution_count": 25,
      "id": "dea4bfb0",
      "metadata": {
        "colab": {
          "base_uri": "https://localhost:8080/"
        },
        "id": "dea4bfb0",
        "outputId": "6c34e494-d5f3-4d34-e485-bc86d5481772"
      },
      "outputs": [
        {
          "output_type": "stream",
          "name": "stdout",
          "text": [
            "/content/drive\n",
            "Drive already mounted at /content/drive; to attempt to forcibly remount, call drive.mount(\"/content/drive\", force_remount=True).\n"
          ]
        }
      ],
      "source": [
        "from google.colab import drive\n",
        "from os.path import join\n",
        "\n",
        "ROOT = \"/content/drive\"\n",
        "print(ROOT)\n",
        "drive.mount(ROOT)"
      ]
    },
    {
      "cell_type": "code",
      "execution_count": 26,
      "id": "b3bcc39d",
      "metadata": {
        "id": "b3bcc39d"
      },
      "outputs": [],
      "source": [
        "train = pd.read_csv('/content/drive/MyDrive/dacon_shopping/shopping_git/dataset/train.csv')\n",
        "from sklearn.model_selection import train_test_split\n",
        "train_data, val_data = train_test_split(train, test_size=0.25, stratify = train.target,random_state=42) \n",
        "# 전처리 과정에서 데이터가 뒤섞이지 않도록 인덱스를 초기화\n",
        "train_data = train_data.reset_index().drop('index', axis=1)\n",
        "val_data = val_data.reset_index().drop('index', axis=1)\n",
        "# training 데이터에서 변수 추출\n",
        "train_X = train_data.reviews\n",
        "train_y = train_data.target \n",
        "# validation 데이터에서 변수 추출\n",
        "val_X = val_data.reviews \n",
        "val_y = val_data.target \n"
      ]
    },
    {
      "cell_type": "markdown",
      "source": [
        "## 데이터 확인"
      ],
      "metadata": {
        "id": "saUS_Jyg3tYa"
      },
      "id": "saUS_Jyg3tYa"
    },
    {
      "cell_type": "code",
      "execution_count": 27,
      "id": "f8d1473d",
      "metadata": {
        "colab": {
          "base_uri": "https://localhost:8080/",
          "height": 334
        },
        "id": "f8d1473d",
        "outputId": "92d3e1be-db8b-48d5-80cf-4ea2e204f7bc"
      },
      "outputs": [
        {
          "output_type": "stream",
          "name": "stdout",
          "text": [
            "(18750,)\n",
            "(6250,)\n"
          ]
        },
        {
          "output_type": "execute_result",
          "data": {
            "text/plain": [
              "<matplotlib.axes._subplots.AxesSubplot at 0x7f85f3e7ad10>"
            ]
          },
          "metadata": {},
          "execution_count": 27
        },
        {
          "output_type": "display_data",
          "data": {
            "text/plain": [
              "<Figure size 432x288 with 1 Axes>"
            ],
            "image/png": "[encoded data removed]"
          },
          "metadata": {
            "needs_background": "light"
          }
        }
      ],
      "source": [
        "print(train_X.shape)\n",
        "print(val_X.shape)\n",
        "sns.countplot(data=train,x='target')"
      ]
    },
    {
      "cell_type": "markdown",
      "id": "4a128ba5",
      "metadata": {
        "id": "4a128ba5"
      },
      "source": [
        "## 문장의 공백 제거 \n",
        "- Kkma 의 오류로 인해 15자 이상은 활용할 수 없음 \n",
        "- 따라서 최대한 활용할 수 있도록 공백 제거 "
      ]
    },
    {
      "cell_type": "code",
      "execution_count": 28,
      "id": "98d80136",
      "metadata": {
        "id": "98d80136"
      },
      "outputs": [],
      "source": [
        "train_X = train_X.str.replace(' ','')\n",
        "val_X = val_X.str.replace(' ','')"
      ]
    },
    {
      "cell_type": "code",
      "execution_count": 29,
      "id": "5d077705",
      "metadata": {
        "scrolled": true,
        "colab": {
          "base_uri": "https://localhost:8080/"
        },
        "id": "5d077705",
        "outputId": "1eaa7047-24d1-4ea6-e8b8-bc31edb8b186"
      },
      "outputs": [
        {
          "output_type": "execute_result",
          "data": {
            "text/plain": [
              "0                                          마음에듭니다.자주이용할께요~\n",
              "1                           어머니다용도가방으로사드렸습니다.현재까진매우만족입니다!!\n",
              "2                                           빨아놔써쇼색상이너무이쁘네요\n",
              "3                                               향이좋아요맘에들어요\n",
              "4                                                편해서좋으네요^^\n",
              "                               ...                        \n",
              "18745    재구매두번째구매인데맛도없고안달아요전혀...배송은일주일넘게똑같이걸렸는데처음시켰던건알도...\n",
              "18746                                    너무낮아서밑에곁대어서쓰고있습니다\n",
              "18747        늘쓰던거에요.근데리뉴얼이된건지..좀두툼해진거같더라구요.아닌가..아무튼더마음에드네요\n",
              "18748                          향이너무독하고배송도느렸어요ㅠㅠ가격은저렴한것같습니다\n",
              "18749    생각했던거보단별로였던거같아요.사이즈는제가안재고사서...생각보다많이작다는느낌을받았고두...\n",
              "Name: reviews, Length: 18750, dtype: object"
            ]
          },
          "metadata": {},
          "execution_count": 29
        }
      ],
      "source": [
        "train_X"
      ]
    },
    {
      "cell_type": "markdown",
      "id": "82f94763",
      "metadata": {
        "id": "82f94763"
      },
      "source": [
        "## 정규표현식 특수문자 제거"
      ]
    },
    {
      "cell_type": "code",
      "execution_count": 30,
      "id": "eb7f3742",
      "metadata": {
        "id": "eb7f3742"
      },
      "outputs": [],
      "source": [
        "def apply_regular_expression(text):\n",
        "    hangul = re.compile('[^ ㄱ-ㅣ 가-힣]')\n",
        "    result = hangul.sub('',text)\n",
        "    return result"
      ]
    },
    {
      "cell_type": "code",
      "execution_count": 31,
      "id": "9b6f27a5",
      "metadata": {
        "id": "9b6f27a5"
      },
      "outputs": [],
      "source": [
        "train_X = train_X.map(apply_regular_expression)\n",
        "val_X = val_X.map(apply_regular_expression)"
      ]
    },
    {
      "cell_type": "markdown",
      "id": "52166a4e",
      "metadata": {
        "id": "52166a4e"
      },
      "source": [
        "## 한국어 특성상 뒤에 느낌을 표현하는 경우가 많음\n",
        "- 뒤에서 15글자, 15글자로 한정한 이유 = Kkma 는 JVM 기반 자바모듈인데 자바의 heap에 계속 쌓이면서 문장의 길이가 길면 out of memory error 를 발생시킨다. 나는 heap사이즈를 강제로 키워도 보았지만 15글자 이상에서는 메모리 문제가 발생했다. 그래서 모든 문장을 15글자로 제한을 두었기 때문에 필요한 단어만 찾을 필요가 있었다. 앞에서 중간에서 가장 마지막에서 등등.. 한국어 문장 특성상 대부분이 두괄식 표현보다는 끝에 자기의 감정을 적는 경우가 많았다. 그래서 뒤에서 15글자로 제한을 두었다"
      ]
    },
    {
      "cell_type": "code",
      "execution_count": 32,
      "id": "b20fa712",
      "metadata": {
        "id": "b20fa712"
      },
      "outputs": [],
      "source": [
        "train_short = []\n",
        "for i in range(len(train_X)):\n",
        "    train_short.append(train_X[i][-15:])\n",
        "train_short = pd.Series(train_short)\n",
        "\n",
        "val_short = []\n",
        "for i in range(len(val_X)):\n",
        "    val_short.append(val_X[i][-15:])\n",
        "val_short = pd.Series(val_short)"
      ]
    },
    {
      "cell_type": "markdown",
      "source": [
        "## 형태소를 확인해서 단어화 하는 작업. "
      ],
      "metadata": {
        "id": "aUtijrxb4xVE"
      },
      "id": "aUtijrxb4xVE"
    },
    {
      "cell_type": "code",
      "execution_count": 33,
      "id": "480962fa",
      "metadata": {
        "id": "480962fa"
      },
      "outputs": [],
      "source": [
        "def text_cleaning(text):\n",
        "    b = ''\n",
        "    nouns = kma.pos(text) \n",
        "    for i in range(len(nouns)):\n",
        "        if 'NNG' in nouns[i]:\n",
        "            b += nouns[i][0]+','\n",
        "        elif 'XR' in nouns[i]:\n",
        "            b += nouns[i][0]+','\n",
        "        elif 'VA' in nouns[i]:\n",
        "            if nouns[i-1][0] == '안':\n",
        "                b += '안' + nouns[i][0]+'다'+','\n",
        "            else:\n",
        "                b += nouns[i][0]+'다'+','\n",
        "        elif 'VV' in nouns[i]:\n",
        "                b += nouns[i][0]+'다'+','\n",
        "        else:\n",
        "            pass\n",
        "    return b"
      ]
    },
    {
      "cell_type": "code",
      "execution_count": 34,
      "id": "a955f6fa",
      "metadata": {
        "id": "a955f6fa"
      },
      "outputs": [],
      "source": [
        "train_clean = train_short.map(text_cleaning)\n",
        "val_clean = val_short.map(text_cleaning)"
      ]
    },
    {
      "cell_type": "code",
      "execution_count": 35,
      "id": "ffc0833a",
      "metadata": {
        "id": "ffc0833a"
      },
      "outputs": [],
      "source": [
        "train_list = list(map(lambda x:x.split(',')[:-1],train_clean))\n",
        "val_list = list(map(lambda x : x.split(',')[:-1],val_clean))"
      ]
    },
    {
      "cell_type": "markdown",
      "id": "ef0ec6ee",
      "metadata": {
        "id": "ef0ec6ee"
      },
      "source": [
        "## 한글자제거 (한글자는 불필요한 단어) "
      ]
    },
    {
      "cell_type": "code",
      "execution_count": 36,
      "id": "32378b5e",
      "metadata": {
        "id": "32378b5e"
      },
      "outputs": [],
      "source": [
        "train_rmone = [] \n",
        "for x in train_list:\n",
        "    abcd = []\n",
        "    for i in x:\n",
        "        if len(i) >1 :\n",
        "            abcd.append(i)\n",
        "    train_rmone.append(abcd)\n",
        "val_rmone = []\n",
        "for x in val_list:\n",
        "    abcd = []\n",
        "    for i in x:\n",
        "        if len(i) > 1 :\n",
        "            abcd.append(i)\n",
        "    val_rmone.append(abcd)\n",
        "    "
      ]
    },
    {
      "cell_type": "markdown",
      "id": "b07d9989",
      "metadata": {
        "id": "b07d9989"
      },
      "source": [
        "## stopword (불용어 제거)"
      ]
    },
    {
      "cell_type": "code",
      "execution_count": 37,
      "id": "d372b484",
      "metadata": {
        "id": "d372b484"
      },
      "outputs": [],
      "source": [
        "stopwords = pd.read_csv(\"https://raw.githubusercontent.com/yoonkt200/FastCampusDataset/master/korean_stopwords.txt\").values.tolist()"
      ]
    },
    {
      "cell_type": "code",
      "execution_count": 38,
      "id": "cf5e5ab1",
      "metadata": {
        "id": "cf5e5ab1"
      },
      "outputs": [],
      "source": [
        "train_rmstop = []\n",
        "for x in train_rmone:\n",
        "    abcd = []\n",
        "    for i in x:\n",
        "        if i not in stopwords:\n",
        "            abcd.append(i)\n",
        "    train_rmstop.append(abcd)\n",
        "val_rmstop = []\n",
        "for x in val_rmone:\n",
        "    abcd = []\n",
        "    for i in x:\n",
        "        if i not in stopwords:\n",
        "            abcd.append(i)\n",
        "    val_rmstop.append(abcd)"
      ]
    },
    {
      "cell_type": "markdown",
      "id": "9dddb493",
      "metadata": {
        "id": "9dddb493"
      },
      "source": [
        "## word 2 vec 학습 \n"
      ]
    },
    {
      "cell_type": "code",
      "execution_count": 40,
      "id": "4d14a27c",
      "metadata": {
        "colab": {
          "base_uri": "https://localhost:8080/"
        },
        "id": "4d14a27c",
        "outputId": "3e20942b-d3fc-424b-ed32-dba7312f11c9"
      },
      "outputs": [
        {
          "output_type": "stream",
          "name": "stderr",
          "text": [
            "WARNING:gensim.models.base_any2vec:under 10 jobs per worker: consider setting a smaller `batch_words' for smoother alpha decay\n"
          ]
        }
      ],
      "source": [
        "model = Word2Vec(sentences = train_rmstop, # 학습\n",
        "                 size=100,      # 임베딩된 벡터 차원 \n",
        "                 window=10,             # 컨텍스트 윈도우 크기\n",
        "                 min_count=1,          # 최소 빈도수 제한 1번 밑으로는 학습 X\n",
        "                 workers=40,           # 학습 프로세스 수 \n",
        "                 sg=1)                 # 0= CBOW, 1= Skip-Gram\n",
        "                                       # skipgram = 중심단어로 주변단어 예측 "
      ]
    },
    {
      "cell_type": "code",
      "execution_count": 41,
      "id": "0d00f422",
      "metadata": {
        "scrolled": true,
        "colab": {
          "base_uri": "https://localhost:8080/"
        },
        "id": "0d00f422",
        "outputId": "bb7632d9-592b-4821-9ea3-0eaef4869858"
      },
      "outputs": [
        {
          "output_type": "execute_result",
          "data": {
            "text/plain": [
              "[('상품', 0.9988223314285278),\n",
              " ('만족', 0.9986308217048645),\n",
              " ('제품', 0.99790358543396),\n",
              " ('감사', 0.9978794455528259),\n",
              " ('포장', 0.9974327087402344),\n",
              " ('품질', 0.997244119644165),\n",
              " ('깔끔', 0.9971938133239746),\n",
              " ('상태', 0.9971717596054077),\n",
              " ('괜찮다', 0.9967938661575317),\n",
              " ('저렴', 0.9966132044792175)]"
            ]
          },
          "metadata": {},
          "execution_count": 41
        }
      ],
      "source": [
        "model.wv.most_similar('좋다')"
      ]
    },
    {
      "cell_type": "code",
      "execution_count": 42,
      "id": "42b2dd14",
      "metadata": {
        "scrolled": true,
        "colab": {
          "base_uri": "https://localhost:8080/"
        },
        "id": "42b2dd14",
        "outputId": "e1b46bd3-da66-45ac-825a-fdaddc50abd6"
      },
      "outputs": [
        {
          "output_type": "execute_result",
          "data": {
            "text/plain": [
              "[('필요', 0.999640166759491),\n",
              " ('팔다', 0.9996260404586792),\n",
              " ('짜다', 0.999615490436554),\n",
              " ('불량', 0.9996150135993958),\n",
              " ('나쁘다', 0.9996144771575928),\n",
              " ('처음', 0.9996100664138794),\n",
              " ('들어가다', 0.9996071457862854),\n",
              " ('마감', 0.9996036887168884),\n",
              " ('묻다', 0.9996005892753601),\n",
              " ('터지다', 0.9995871782302856)]"
            ]
          },
          "metadata": {},
          "execution_count": 42
        }
      ],
      "source": [
        "model.wv.most_similar('안좋다')"
      ]
    },
    {
      "cell_type": "code",
      "execution_count": 43,
      "id": "70d0ad09",
      "metadata": {
        "id": "70d0ad09"
      },
      "outputs": [],
      "source": [
        "def get_features(words, model, num_features):\n",
        "    feature_vector = np.zeros((num_features),dtype=np.float32)\n",
        "\n",
        "    num_words = 0\n",
        "    index2word_set = set(model.wv.index2entity)\n",
        "\n",
        "    for w in words:\n",
        "        if w in index2word_set:\n",
        "            num_words = 1\n",
        "            feature_vector = np.add(feature_vector, model.wv[w])\n",
        "        elif w not in index2word_set:\n",
        "            num_words = 1\n",
        "            feature_vector = np.add(feature_vector,model.wv['보통'])\n",
        "        feature_vector = np.divide(feature_vector, num_words)\n",
        "    return feature_vector\n",
        "def get_dataset(reviews, model, num_features):\n",
        "    dataset = list()\n",
        "\n",
        "    for s in reviews:\n",
        "        dataset.append(get_features(s, model, num_features))\n",
        "\n",
        "    reviewFeatureVecs = np.stack(dataset)\n",
        "    \n",
        "    return reviewFeatureVecs\n",
        "\n"
      ]
    },
    {
      "cell_type": "markdown",
      "id": "bfaf69d2",
      "metadata": {
        "id": "bfaf69d2"
      },
      "source": [
        "## 문장마다 벡터값 얻기 "
      ]
    },
    {
      "cell_type": "code",
      "execution_count": 44,
      "id": "d2535635",
      "metadata": {
        "id": "d2535635"
      },
      "outputs": [],
      "source": [
        "train_vec = get_dataset(train_rmstop,model,100)\n",
        "val_vec = get_dataset(val_rmstop,model,100)"
      ]
    },
    {
      "cell_type": "markdown",
      "id": "5a243bef",
      "metadata": {
        "id": "5a243bef"
      },
      "source": [
        "## Logistic Regression 모델로 평가"
      ]
    },
    {
      "cell_type": "code",
      "execution_count": 45,
      "id": "50167639",
      "metadata": {
        "id": "50167639"
      },
      "outputs": [],
      "source": [
        "lr_clf =LogisticRegression(max_iter=10000,random_state=42)"
      ]
    },
    {
      "cell_type": "code",
      "execution_count": 46,
      "id": "b5d5604f",
      "metadata": {
        "colab": {
          "base_uri": "https://localhost:8080/"
        },
        "id": "b5d5604f",
        "outputId": "6f5c9422-c8ac-4175-8fb3-9a3f18635575"
      },
      "outputs": [
        {
          "output_type": "execute_result",
          "data": {
            "text/plain": [
              "LogisticRegression(max_iter=10000, random_state=42)"
            ]
          },
          "metadata": {},
          "execution_count": 46
        }
      ],
      "source": [
        "lr_clf.fit(train_vec,train_y)"
      ]
    },
    {
      "cell_type": "code",
      "execution_count": 47,
      "id": "7491479a",
      "metadata": {
        "id": "7491479a"
      },
      "outputs": [],
      "source": [
        "pred = lr_clf.predict(val_vec)"
      ]
    },
    {
      "cell_type": "code",
      "execution_count": 48,
      "id": "a8a83327",
      "metadata": {
        "scrolled": true,
        "colab": {
          "base_uri": "https://localhost:8080/"
        },
        "id": "a8a83327",
        "outputId": "0d06e08b-923d-44de-8c04-d5c238ef2a85"
      },
      "outputs": [
        {
          "output_type": "execute_result",
          "data": {
            "text/plain": [
              "0.54016"
            ]
          },
          "metadata": {},
          "execution_count": 48
        }
      ],
      "source": [
        "(pred == val_y).mean()"
      ]
    },
    {
      "cell_type": "markdown",
      "id": "218c5c04",
      "metadata": {
        "id": "218c5c04"
      },
      "source": [
        "## 랜덤포레스트와 그라디언트부스팅기법 "
      ]
    },
    {
      "cell_type": "code",
      "execution_count": 49,
      "id": "6f3a29c8",
      "metadata": {
        "id": "6f3a29c8"
      },
      "outputs": [],
      "source": [
        "from sklearn.ensemble import RandomForestClassifier\n",
        "from sklearn.ensemble import GradientBoostingClassifier"
      ]
    },
    {
      "cell_type": "code",
      "execution_count": 50,
      "id": "b43f7fac",
      "metadata": {
        "id": "b43f7fac"
      },
      "outputs": [],
      "source": [
        "rf_clf = RandomForestClassifier(n_estimators=107,random_state=0,\n",
        "                                n_jobs=-1,criterion='gini',\n",
        "                                max_depth=14,min_samples_leaf=11\n",
        "                               )\n",
        "gb_clf = GradientBoostingClassifier(n_estimators=100)"
      ]
    },
    {
      "cell_type": "code",
      "execution_count": 51,
      "id": "bc5464b8",
      "metadata": {
        "scrolled": true,
        "colab": {
          "base_uri": "https://localhost:8080/"
        },
        "id": "bc5464b8",
        "outputId": "20b1dac2-b704-4494-8716-cab3273451b0"
      },
      "outputs": [
        {
          "output_type": "execute_result",
          "data": {
            "text/plain": [
              "RandomForestClassifier(max_depth=14, min_samples_leaf=11, n_estimators=107,\n",
              "                       n_jobs=-1, random_state=0)"
            ]
          },
          "metadata": {},
          "execution_count": 51
        }
      ],
      "source": [
        "rf_clf.fit(train_vec,train_y)"
      ]
    },
    {
      "cell_type": "code",
      "execution_count": 52,
      "id": "ec937b13",
      "metadata": {
        "id": "ec937b13"
      },
      "outputs": [],
      "source": [
        "rf_pred = rf_clf.predict(val_vec)"
      ]
    },
    {
      "cell_type": "code",
      "execution_count": 53,
      "id": "847ea11d",
      "metadata": {
        "colab": {
          "base_uri": "https://localhost:8080/"
        },
        "id": "847ea11d",
        "outputId": "b2a96146-a1f9-4e72-bef8-f193cc37118c"
      },
      "outputs": [
        {
          "output_type": "execute_result",
          "data": {
            "text/plain": [
              "0.53056"
            ]
          },
          "metadata": {},
          "execution_count": 53
        }
      ],
      "source": [
        "(rf_pred==val_y).mean()"
      ]
    },
    {
      "cell_type": "code",
      "execution_count": 54,
      "id": "fab52012",
      "metadata": {
        "colab": {
          "base_uri": "https://localhost:8080/"
        },
        "id": "fab52012",
        "outputId": "1b38de9f-22e5-4923-ab82-777093c45904"
      },
      "outputs": [
        {
          "output_type": "execute_result",
          "data": {
            "text/plain": [
              "GradientBoostingClassifier()"
            ]
          },
          "metadata": {},
          "execution_count": 54
        }
      ],
      "source": [
        "gb_clf.fit(train_vec,train_y)"
      ]
    },
    {
      "cell_type": "code",
      "execution_count": 55,
      "id": "72823039",
      "metadata": {
        "id": "72823039"
      },
      "outputs": [],
      "source": [
        "gb_pred = gb_clf.predict(val_vec)"
      ]
    },
    {
      "cell_type": "code",
      "execution_count": 56,
      "id": "1955e049",
      "metadata": {
        "colab": {
          "base_uri": "https://localhost:8080/"
        },
        "id": "1955e049",
        "outputId": "9903eb6f-db91-4add-b6cc-282815dbe958"
      },
      "outputs": [
        {
          "output_type": "execute_result",
          "data": {
            "text/plain": [
              "0.51552"
            ]
          },
          "metadata": {},
          "execution_count": 56
        }
      ],
      "source": [
        "(gb_pred==val_y).mean()"
      ]
    },
    {
      "cell_type": "markdown",
      "id": "904e7b87",
      "metadata": {
        "id": "904e7b87"
      },
      "source": [
        "# 결론\n",
        "- 생각만큼 좋은 수치가 나오지 않았다. word2vec의 학습에서 최대한 활용할 수 있을 언어만 뽑아왔다고 생각했다. 문장의 처음과 끝을 다 해석했다면 다르겠지만 자바 메모리 오류로 그렇게 하지 못한건 아쉬움이다. \n",
        "- 최대한 성능을 업그레이드해보려고 노력했다. 여기서는 이정도로 적어 놓겠지만 사실 더 많은 시도를 해보았다.adaboost기법도 파이프라인을 적용해 원핫인코딩으로도 하지만 모두 성능이 좋지 않았다. 그 뜻은 word2vec 이전에 단어 뽑는 부분이 문제가 있다고 생각이 든다. \n",
        "---\n",
        "1. 자연어 처리에서는 학습된 모델을 쓰는 것이 가장 좋다고 한다. \n",
        "2. skt에서 만든 KoGPT2 를 이용할 예정이다.\n",
        "3. 카카오에서 만든 KoGPT는 16기가 RAM으로 코랩에서 사용이 불가능하다. \n",
        "\n"
      ]
    },
    {
      "cell_type": "code",
      "execution_count": 56,
      "id": "59a3c9d4",
      "metadata": {
        "id": "59a3c9d4"
      },
      "outputs": [],
      "source": [
        ""
      ]
    }
  ],
  "metadata": {
    "kernelspec": {
      "display_name": "Python 3 (ipykernel)",
      "language": "python",
      "name": "python3"
    },
    "language_info": {
      "codemirror_mode": {
        "name": "ipython",
        "version": 3
      },
      "file_extension": ".py",
      "mimetype": "text/x-python",
      "name": "python",
      "nbconvert_exporter": "python",
      "pygments_lexer": "ipython3",
      "version": "3.8.12"
    },
    "colab": {
      "name": "W2V_Kkma.ipynb",
      "provenance": [],
      "include_colab_link": true
    },
    "gpuClass": "standard"
  },
  "nbformat": 4,
  "nbformat_minor": 5
}